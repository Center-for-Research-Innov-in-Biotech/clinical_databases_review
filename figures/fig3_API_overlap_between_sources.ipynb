{
 "cells": [
  {
   "cell_type": "markdown",
   "metadata": {},
   "source": [
    "# Introduction\n",
    "\n",
    "This notebook generates the figure xxx for the paper `Assessing the public landscape of pharmaceuticals with evidence of clinical testing`"
   ]
  },
  {
   "cell_type": "code",
   "execution_count": 1,
   "metadata": {},
   "outputs": [],
   "source": [
    "import pandas as pd\n",
    "import utils, itertools\n",
    "import seaborn as sns\n",
    "import numpy as np\n",
    "from matplotlib import pyplot as plt   \n",
    "\n",
    "plt.rcParams['svg.fonttype'] = 'none'\n",
    "plt.rcParams[\"font.sans-serif\"] = \"Arial\"\n",
    "plt.rcParams['font.family'] = \"sans-serif\"\n",
    "\n",
    "def get_apis(df, name):\n",
    "    return set(df[df.source_name==name].api_id)\n",
    "\n",
    "def make_label(df, name):\n",
    "    return name + ' (' + str(df.loc[name].values[0]) + ')'\n",
    "\n",
    "def get_overlap(df, sources, n=3):\n",
    "    # get the overlap in number of drugs between any n sources\n",
    "    dat = {}\n",
    "    for i,source_list in enumerate(itertools.combinations(sources,n)):\n",
    "\n",
    "        apis = [get_apis(df,l) for l in source_list] # set of apis, one for each source in source_list\n",
    "        dat[source_list] = len(set.intersection(*apis))\n",
    "\n",
    "    return pd.DataFrame(pd.Series(dat, name='num_drugs_overlap'))\n",
    "\n",
    "\n",
    "def get_conn():\n",
    "    '''\n",
    "    Get a sqlalchemy connection engine using the read-only credentials of the live CDEK data\n",
    "    '''\n",
    "    \n",
    "    uri = 'postgres://cdec:p3e5c85362ff4fdf7edbb6f5eccf299c48d8e2baf176bf80a3d4685e60a2deaa2@ec2-34-228-234-31.compute-1.amazonaws.com:5432/dflsafiqsli23l'\n",
    "    return create_engine(uri)"
   ]
  },
  {
   "cell_type": "code",
   "execution_count": 2,
   "metadata": {},
   "outputs": [
    {
     "data": {
      "text/html": [
       "<div>\n",
       "<style scoped>\n",
       "    .dataframe tbody tr th:only-of-type {\n",
       "        vertical-align: middle;\n",
       "    }\n",
       "\n",
       "    .dataframe tbody tr th {\n",
       "        vertical-align: top;\n",
       "    }\n",
       "\n",
       "    .dataframe thead th {\n",
       "        text-align: right;\n",
       "    }\n",
       "</style>\n",
       "<table border=\"1\" class=\"dataframe\">\n",
       "  <thead>\n",
       "    <tr style=\"text-align: right;\">\n",
       "      <th></th>\n",
       "      <th>api_id</th>\n",
       "      <th>source_name</th>\n",
       "    </tr>\n",
       "  </thead>\n",
       "  <tbody>\n",
       "    <tr>\n",
       "      <th>0</th>\n",
       "      <td>7</td>\n",
       "      <td>AACT</td>\n",
       "    </tr>\n",
       "    <tr>\n",
       "      <th>1</th>\n",
       "      <td>13</td>\n",
       "      <td>AACT</td>\n",
       "    </tr>\n",
       "    <tr>\n",
       "      <th>2</th>\n",
       "      <td>13</td>\n",
       "      <td>PubChem</td>\n",
       "    </tr>\n",
       "    <tr>\n",
       "      <th>3</th>\n",
       "      <td>19</td>\n",
       "      <td>AACT</td>\n",
       "    </tr>\n",
       "    <tr>\n",
       "      <th>4</th>\n",
       "      <td>19</td>\n",
       "      <td>PubChem</td>\n",
       "    </tr>\n",
       "  </tbody>\n",
       "</table>\n",
       "</div>"
      ],
      "text/plain": [
       "   api_id source_name\n",
       "0       7        AACT\n",
       "1      13        AACT\n",
       "2      13     PubChem\n",
       "3      19        AACT\n",
       "4      19     PubChem"
      ]
     },
     "execution_count": 2,
     "metadata": {},
     "output_type": "execute_result"
    }
   ],
   "source": [
    "# create connections to a local database\n",
    "conn_fim = utils.get_conn()\n",
    "\n",
    "# get data (api_id, source_name)\n",
    "sources = ['AACT','ChEMBL','DrugBank','PubChem','nme','WITHDRAWN','repoDB','superdrug2','Drug Central']\n",
    "sources_str = ', '.join(\"'{0}'\".format(w) for w in sources)\n",
    "\n",
    "sql = (\"SELECT distinct on (api_id, source_name) api_id, source_name \"\n",
    "       \"FROM link_names_apis where source_name in \"\n",
    "       \"(%s)\" %sources_str)\n",
    "\n",
    "links = pd.read_sql(sql, conn_fim)\n",
    "\n",
    "links.head()"
   ]
  },
  {
   "cell_type": "markdown",
   "metadata": {},
   "source": [
    "## Number of APIs with a given source"
   ]
  },
  {
   "cell_type": "code",
   "execution_count": 3,
   "metadata": {},
   "outputs": [
    {
     "data": {
      "text/html": [
       "<div>\n",
       "<style scoped>\n",
       "    .dataframe tbody tr th:only-of-type {\n",
       "        vertical-align: middle;\n",
       "    }\n",
       "\n",
       "    .dataframe tbody tr th {\n",
       "        vertical-align: top;\n",
       "    }\n",
       "\n",
       "    .dataframe thead th {\n",
       "        text-align: right;\n",
       "    }\n",
       "</style>\n",
       "<table border=\"1\" class=\"dataframe\">\n",
       "  <thead>\n",
       "    <tr style=\"text-align: right;\">\n",
       "      <th></th>\n",
       "      <th>num_APIs</th>\n",
       "    </tr>\n",
       "    <tr>\n",
       "      <th>source_name</th>\n",
       "      <th></th>\n",
       "    </tr>\n",
       "  </thead>\n",
       "  <tbody>\n",
       "    <tr>\n",
       "      <th>AACT</th>\n",
       "      <td>17074</td>\n",
       "    </tr>\n",
       "    <tr>\n",
       "      <th>PubChem</th>\n",
       "      <td>10024</td>\n",
       "    </tr>\n",
       "    <tr>\n",
       "      <th>ChEMBL</th>\n",
       "      <td>7039</td>\n",
       "    </tr>\n",
       "    <tr>\n",
       "      <th>DrugBank</th>\n",
       "      <td>4743</td>\n",
       "    </tr>\n",
       "    <tr>\n",
       "      <th>Drug Central</th>\n",
       "      <td>4609</td>\n",
       "    </tr>\n",
       "    <tr>\n",
       "      <th>superdrug2</th>\n",
       "      <td>3911</td>\n",
       "    </tr>\n",
       "    <tr>\n",
       "      <th>nme</th>\n",
       "      <td>1951</td>\n",
       "    </tr>\n",
       "    <tr>\n",
       "      <th>repoDB</th>\n",
       "      <td>1541</td>\n",
       "    </tr>\n",
       "    <tr>\n",
       "      <th>WITHDRAWN</th>\n",
       "      <td>618</td>\n",
       "    </tr>\n",
       "  </tbody>\n",
       "</table>\n",
       "</div>"
      ],
      "text/plain": [
       "              num_APIs\n",
       "source_name           \n",
       "AACT             17074\n",
       "PubChem          10024\n",
       "ChEMBL            7039\n",
       "DrugBank          4743\n",
       "Drug Central      4609\n",
       "superdrug2        3911\n",
       "nme               1951\n",
       "repoDB            1541\n",
       "WITHDRAWN          618"
      ]
     },
     "execution_count": 3,
     "metadata": {},
     "output_type": "execute_result"
    }
   ],
   "source": [
    "# number of drugs for each source\n",
    "counts = (links.groupby('source_name')\n",
    "               .size()\n",
    "               .reset_index(name='num_APIs')\n",
    "               .set_index('source_name'))\n",
    "\n",
    "counts.sort_values('num_APIs', ascending=False)"
   ]
  },
  {
   "cell_type": "markdown",
   "metadata": {},
   "source": [
    "## Number of drugs overlapping between any 2 sources"
   ]
  },
  {
   "cell_type": "code",
   "execution_count": 4,
   "metadata": {
    "scrolled": false
   },
   "outputs": [
    {
     "ename": "NameError",
     "evalue": "name 'np' is not defined",
     "output_type": "error",
     "traceback": [
      "\u001b[0;31m---------------------------------------------------------------------------\u001b[0m",
      "\u001b[0;31mNameError\u001b[0m                                 Traceback (most recent call last)",
      "\u001b[0;32m<ipython-input-4-3691e131975b>\u001b[0m in \u001b[0;36m<module>\u001b[0;34m()\u001b[0m\n\u001b[1;32m     17\u001b[0m     \u001b[0moverlap\u001b[0m\u001b[0;34m.\u001b[0m\u001b[0mloc\u001b[0m\u001b[0;34m[\u001b[0m\u001b[0mi\u001b[0m\u001b[0;34m]\u001b[0m \u001b[0;34m=\u001b[0m \u001b[0;34m[\u001b[0m\u001b[0ml1\u001b[0m\u001b[0;34m,\u001b[0m \u001b[0ml2\u001b[0m\u001b[0;34m,\u001b[0m \u001b[0mlen\u001b[0m\u001b[0;34m(\u001b[0m\u001b[0ms1_api_id\u001b[0m \u001b[0;34m&\u001b[0m \u001b[0ms2_api_id\u001b[0m\u001b[0;34m)\u001b[0m\u001b[0;34m]\u001b[0m\u001b[0;34m\u001b[0m\u001b[0m\n\u001b[1;32m     18\u001b[0m \u001b[0;34m\u001b[0m\u001b[0m\n\u001b[0;32m---> 19\u001b[0;31m \u001b[0moverlap_pivot\u001b[0m \u001b[0;34m=\u001b[0m \u001b[0moverlap\u001b[0m\u001b[0;34m.\u001b[0m\u001b[0mpivot\u001b[0m\u001b[0;34m(\u001b[0m\u001b[0mcols\u001b[0m\u001b[0;34m[\u001b[0m\u001b[0;36m0\u001b[0m\u001b[0;34m]\u001b[0m\u001b[0;34m,\u001b[0m \u001b[0mcols\u001b[0m\u001b[0;34m[\u001b[0m\u001b[0;36m1\u001b[0m\u001b[0;34m]\u001b[0m\u001b[0;34m,\u001b[0m \u001b[0mcols\u001b[0m\u001b[0;34m[\u001b[0m\u001b[0;36m2\u001b[0m\u001b[0;34m]\u001b[0m\u001b[0;34m)\u001b[0m\u001b[0;34m.\u001b[0m\u001b[0mfillna\u001b[0m\u001b[0;34m(\u001b[0m\u001b[0mnp\u001b[0m\u001b[0;34m.\u001b[0m\u001b[0mnan\u001b[0m\u001b[0;34m)\u001b[0m\u001b[0;34m\u001b[0m\u001b[0m\n\u001b[0m\u001b[1;32m     20\u001b[0m \u001b[0;34m\u001b[0m\u001b[0m\n\u001b[1;32m     21\u001b[0m \u001b[0;31m# plot\u001b[0m\u001b[0;34m\u001b[0m\u001b[0;34m\u001b[0m\u001b[0m\n",
      "\u001b[0;31mNameError\u001b[0m: name 'np' is not defined"
     ]
    }
   ],
   "source": [
    "# get number of overlaping api_id for each source pair\n",
    "cols = ['source1','source2','num_drugs_overlap']\n",
    "overlap = pd.DataFrame(columns=cols)\n",
    "\n",
    "# remove AACT for the time being\n",
    "sources = sorted(list(set(sources) - set(['AACT'])))\n",
    "\n",
    "\n",
    "for i,(s1,s2) in enumerate(itertools.combinations(sources,2)):\n",
    "    s1_api_id = get_apis(links, s1)\n",
    "    s2_api_id = get_apis(links, s2)\n",
    "    \n",
    "    # add total drug count to each label\n",
    "    l1 = make_label(counts, s1)\n",
    "    l2 = make_label(counts, s2)\n",
    "    \n",
    "    overlap.loc[i] = [l1, l2, len(s1_api_id & s2_api_id)]\n",
    "\n",
    "overlap_pivot = overlap.pivot(cols[0], cols[1], cols[2]).fillna(np.nan)\n",
    "\n",
    "# plot\n",
    "sns.set(font_scale=1.4)\n",
    "plt.figure(figsize=(20,10))\n",
    "plt.title('Counts of APIs common between any two sources', fontsize=20)\n",
    "ax = sns.heatmap(overlap_pivot,\n",
    "                 annot=True,\n",
    "                 fmt=\".0f\",\n",
    "                 cmap=sns.cubehelix_palette(8), \n",
    "                 square=True, linewidths=1)\n",
    "\n",
    "ax.set_xlabel('')\n",
    "ax.set_ylabel('')\n",
    "plt.savefig('heatmap_sources.png',bbox_inches='tight')"
   ]
  }
 ],
 "metadata": {
  "kernelspec": {
   "display_name": "Python 3",
   "language": "python",
   "name": "python3"
  },
  "language_info": {
   "codemirror_mode": {
    "name": "ipython",
    "version": 3
   },
   "file_extension": ".py",
   "mimetype": "text/x-python",
   "name": "python",
   "nbconvert_exporter": "python",
   "pygments_lexer": "ipython3",
   "version": "3.6.3"
  }
 },
 "nbformat": 4,
 "nbformat_minor": 2
}
